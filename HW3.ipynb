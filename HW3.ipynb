{
 "cells": [
  {
   "cell_type": "markdown",
   "metadata": {},
   "source": [
    "# HW3: Initial Model Development and Analysis\n",
    "\n",
    "##### Author: Yuji Mori\n",
    "##### Last Updated: 02/10/2021\n",
    "\n",
    "Tasks:\n",
    "- Perform feature engineering\n",
    "- Estimate 1 (baseline) model and evaluate model performance\n",
    "- Hint: Determine what metric(s) is/are appropriate for your use case\n",
    "- Estimate 1 (different) model and/or loss function to improve model performance\n",
    "- Interpret results of model\n",
    "- Use results to answer business question you posed\n",
    "- Write-up a summary of what you did and why in “Methodology” section of README, referencing 3+ cells, figures and/or tables \n"
   ]
  },
  {
   "cell_type": "code",
   "execution_count": 112,
   "metadata": {},
   "outputs": [],
   "source": [
    "import os\n",
    "import json\n",
    "import numpy as np\n",
    "import pandas as pd\n",
    "from pandas.io.json import json_normalize\n",
    "\n",
    "from sklearn.model_selection import train_test_split\n",
    "from sklearn import tree\n",
    "from sklearn.ensemble import RandomForestRegressor\n",
    "from sklearn import metrics\n",
    "\n",
    "\n",
    "from matplotlib import pyplot as plt"
   ]
  },
  {
   "cell_type": "code",
   "execution_count": 67,
   "metadata": {},
   "outputs": [],
   "source": [
    "# JSON flattening code\n",
    "# This code was widely used by most Kaggle competitiors due to JSON structure of some fields\n",
    "# credit goes to:\n",
    "# https://www.kaggle.com/julian3833/1-quick-start-read-csv-and-flatten-json-fields\n",
    "\n",
    "def load_df(csv_path='../data/train.csv', nrows=None):\n",
    "    JSON_COLUMNS = ['device', 'geoNetwork', 'totals', 'trafficSource']\n",
    "    df = pd.read_csv(csv_path, \n",
    "                     converters={column: json.loads for column in JSON_COLUMNS}, \n",
    "                     dtype={'fullVisitorId': 'str'}, # Important!!\n",
    "                     nrows=nrows)\n",
    "    \n",
    "    for column in JSON_COLUMNS:\n",
    "        column_as_df = json_normalize(df[column])\n",
    "        column_as_df.columns = [f\"{column}.{subcolumn}\" for subcolumn in column_as_df.columns]\n",
    "        df = df.drop(column, axis=1).merge(column_as_df, right_index=True, left_index=True)\n",
    "    print(f\"Loaded {os.path.basename(csv_path)}. Shape: {df.shape}\")\n",
    "    return df"
   ]
  },
  {
   "cell_type": "markdown",
   "metadata": {},
   "source": [
    "**NOTE:** The Kaggle competition supplies a training and testing set. However, the supplied testing set does not contain the target variable. Therefore, I will use the competition 'training set' and split further into training and testing sets for the purposes of this project."
   ]
  },
  {
   "cell_type": "markdown",
   "metadata": {},
   "source": [
    "# Data Pre-processing "
   ]
  },
  {
   "cell_type": "code",
   "execution_count": 68,
   "metadata": {},
   "outputs": [
    {
     "name": "stderr",
     "output_type": "stream",
     "text": [
      "<ipython-input-67-043f74f4a0b7>:14: FutureWarning: pandas.io.json.json_normalize is deprecated, use pandas.json_normalize instead\n",
      "  column_as_df = json_normalize(df[column])\n"
     ]
    },
    {
     "name": "stdout",
     "output_type": "stream",
     "text": [
      "Loaded train.csv. Shape: (903653, 55)\n"
     ]
    }
   ],
   "source": [
    "train_df = load_df(csv_path='./data/train.csv')"
   ]
  },
  {
   "cell_type": "markdown",
   "metadata": {},
   "source": [
    "#### Dropping Columns\n",
    "\n",
    "We drop some columns that are uninformative for analysis. This includes: \n",
    "\n",
    "- columns without unique values\n",
    "- ID/string columns with only unique values \n",
    "- timestamp columns\n"
   ]
  },
  {
   "cell_type": "code",
   "execution_count": 69,
   "metadata": {},
   "outputs": [],
   "source": [
    "# dropping columns without unique values:\n",
    "nunique_cols = [col for col in train_df.columns if train_df[col].nunique() == 1]\n",
    "train_df.drop(nunique_cols, axis=1,inplace=True)"
   ]
  },
  {
   "cell_type": "code",
   "execution_count": 70,
   "metadata": {},
   "outputs": [],
   "source": [
    "# dropping string/ID columns that are uninformative or irrelevant for statistical analysis:\n",
    "# - sessionId\n",
    "# - visitId\n",
    "# - fullvisitorID (TEMPORARY -- might aggregate later)\n",
    "# - visitStartTime\n",
    "# - trafficSource.keyword: The keyword of the traffic source\n",
    "# - trafficSource.referralPath: referral URL (if available)\n",
    "# - trafficSource.adwordsClickInfo.gclId: google click ID\n",
    "# - networkDomain: name of ISP provider\n",
    "string_cols = ['sessionId','visitId','fullVisitorId','visitStartTime','trafficSource.keyword', 'trafficSource.referralPath',\n",
    "               'trafficSource.adwordsClickInfo.gclId', 'geoNetwork.networkDomain']\n",
    "train_df.drop(string_cols, axis=1,inplace=True)"
   ]
  },
  {
   "cell_type": "code",
   "execution_count": 71,
   "metadata": {},
   "outputs": [
    {
     "data": {
      "text/plain": [
       "(903653, 24)"
      ]
     },
     "execution_count": 71,
     "metadata": {},
     "output_type": "execute_result"
    }
   ],
   "source": [
    "train_df.shape"
   ]
  },
  {
   "cell_type": "markdown",
   "metadata": {},
   "source": [
    "#### Filling NAs (for numeric columns):"
   ]
  },
  {
   "cell_type": "code",
   "execution_count": 72,
   "metadata": {},
   "outputs": [],
   "source": [
    "train_df['totals.transactionRevenue'] = train_df['totals.transactionRevenue'].fillna(0)\n",
    "train_df['totals.pageviews'] = train_df['totals.pageviews'].fillna(0)"
   ]
  },
  {
   "cell_type": "code",
   "execution_count": 73,
   "metadata": {},
   "outputs": [],
   "source": [
    "# once NaNs are filled, we can convert to int/float:\n",
    "train_df = train_df.astype({'totals.hits': 'int64', \n",
    "                            'totals.pageviews': 'int64',\n",
    "                            'totals.transactionRevenue':'float'})"
   ]
  },
  {
   "cell_type": "code",
   "execution_count": 78,
   "metadata": {},
   "outputs": [
    {
     "data": {
      "text/plain": [
       "channelGrouping                                  object\n",
       "date                                              int64\n",
       "fullVisitorId                                    object\n",
       "visitNumber                                       int64\n",
       "device.browser                                   object\n",
       "device.operatingSystem                           object\n",
       "device.isMobile                                    bool\n",
       "device.deviceCategory                            object\n",
       "geoNetwork.continent                             object\n",
       "geoNetwork.subContinent                          object\n",
       "geoNetwork.country                               object\n",
       "geoNetwork.region                                object\n",
       "geoNetwork.metro                                 object\n",
       "geoNetwork.city                                  object\n",
       "totals.hits                                       int64\n",
       "totals.pageviews                                  int64\n",
       "totals.transactionRevenue                       float64\n",
       "trafficSource.campaign                           object\n",
       "trafficSource.source                             object\n",
       "trafficSource.medium                             object\n",
       "trafficSource.adwordsClickInfo.page              object\n",
       "trafficSource.adwordsClickInfo.slot              object\n",
       "trafficSource.adwordsClickInfo.adNetworkType     object\n",
       "trafficSource.adContent                          object\n",
       "dtype: object"
      ]
     },
     "execution_count": 78,
     "metadata": {},
     "output_type": "execute_result"
    }
   ],
   "source": [
    "train_df.dtypes"
   ]
  },
  {
   "cell_type": "markdown",
   "metadata": {},
   "source": [
    "--------\n",
    "\n",
    "#### Grouping low-frequency categories\n",
    "\n",
    "I arbitrarily set a threshold of 100 for all categorical columns. This will help reduce the computational/memory load when dummy encoding.\n",
    "\n",
    "I am adapting code that I found here: https://stackoverflow.com/questions/41577468/replace-low-frequency-categorical-values-from-pandas-dataframe-while-ignoring-na"
   ]
  },
  {
   "cell_type": "code",
   "execution_count": 77,
   "metadata": {},
   "outputs": [],
   "source": [
    "train_df = train_df.apply(lambda x: x.mask(x.map(x.value_counts())<100, 'Other') if x.dtypes == 'O' else x)"
   ]
  },
  {
   "cell_type": "code",
   "execution_count": 94,
   "metadata": {},
   "outputs": [
    {
     "data": {
      "text/html": [
       "<div>\n",
       "<style scoped>\n",
       "    .dataframe tbody tr th:only-of-type {\n",
       "        vertical-align: middle;\n",
       "    }\n",
       "\n",
       "    .dataframe tbody tr th {\n",
       "        vertical-align: top;\n",
       "    }\n",
       "\n",
       "    .dataframe thead th {\n",
       "        text-align: right;\n",
       "    }\n",
       "</style>\n",
       "<table border=\"1\" class=\"dataframe\">\n",
       "  <thead>\n",
       "    <tr style=\"text-align: right;\">\n",
       "      <th></th>\n",
       "      <th>channelGrouping</th>\n",
       "      <th>date</th>\n",
       "      <th>fullVisitorId</th>\n",
       "      <th>visitNumber</th>\n",
       "      <th>device.browser</th>\n",
       "      <th>device.operatingSystem</th>\n",
       "      <th>device.isMobile</th>\n",
       "      <th>device.deviceCategory</th>\n",
       "      <th>geoNetwork.continent</th>\n",
       "      <th>geoNetwork.subContinent</th>\n",
       "      <th>...</th>\n",
       "      <th>totals.transactionRevenue</th>\n",
       "      <th>trafficSource.campaign</th>\n",
       "      <th>trafficSource.source</th>\n",
       "      <th>trafficSource.medium</th>\n",
       "      <th>trafficSource.adwordsClickInfo.page</th>\n",
       "      <th>trafficSource.adwordsClickInfo.slot</th>\n",
       "      <th>trafficSource.adwordsClickInfo.adNetworkType</th>\n",
       "      <th>trafficSource.adContent</th>\n",
       "      <th>Purchase_Flag</th>\n",
       "      <th>Log_Revenue</th>\n",
       "    </tr>\n",
       "  </thead>\n",
       "  <tbody>\n",
       "    <tr>\n",
       "      <th>0</th>\n",
       "      <td>Organic Search</td>\n",
       "      <td>20160902</td>\n",
       "      <td>Other</td>\n",
       "      <td>1</td>\n",
       "      <td>Chrome</td>\n",
       "      <td>Windows</td>\n",
       "      <td>False</td>\n",
       "      <td>desktop</td>\n",
       "      <td>Asia</td>\n",
       "      <td>Western Asia</td>\n",
       "      <td>...</td>\n",
       "      <td>0.0</td>\n",
       "      <td>(not set)</td>\n",
       "      <td>google</td>\n",
       "      <td>organic</td>\n",
       "      <td>NaN</td>\n",
       "      <td>NaN</td>\n",
       "      <td>NaN</td>\n",
       "      <td>NaN</td>\n",
       "      <td>False</td>\n",
       "      <td>0.0</td>\n",
       "    </tr>\n",
       "    <tr>\n",
       "      <th>1</th>\n",
       "      <td>Organic Search</td>\n",
       "      <td>20160902</td>\n",
       "      <td>Other</td>\n",
       "      <td>1</td>\n",
       "      <td>Firefox</td>\n",
       "      <td>Macintosh</td>\n",
       "      <td>False</td>\n",
       "      <td>desktop</td>\n",
       "      <td>Oceania</td>\n",
       "      <td>Australasia</td>\n",
       "      <td>...</td>\n",
       "      <td>0.0</td>\n",
       "      <td>(not set)</td>\n",
       "      <td>google</td>\n",
       "      <td>organic</td>\n",
       "      <td>NaN</td>\n",
       "      <td>NaN</td>\n",
       "      <td>NaN</td>\n",
       "      <td>NaN</td>\n",
       "      <td>False</td>\n",
       "      <td>0.0</td>\n",
       "    </tr>\n",
       "    <tr>\n",
       "      <th>2</th>\n",
       "      <td>Organic Search</td>\n",
       "      <td>20160902</td>\n",
       "      <td>Other</td>\n",
       "      <td>1</td>\n",
       "      <td>Chrome</td>\n",
       "      <td>Windows</td>\n",
       "      <td>False</td>\n",
       "      <td>desktop</td>\n",
       "      <td>Europe</td>\n",
       "      <td>Southern Europe</td>\n",
       "      <td>...</td>\n",
       "      <td>0.0</td>\n",
       "      <td>(not set)</td>\n",
       "      <td>google</td>\n",
       "      <td>organic</td>\n",
       "      <td>NaN</td>\n",
       "      <td>NaN</td>\n",
       "      <td>NaN</td>\n",
       "      <td>NaN</td>\n",
       "      <td>False</td>\n",
       "      <td>0.0</td>\n",
       "    </tr>\n",
       "    <tr>\n",
       "      <th>3</th>\n",
       "      <td>Organic Search</td>\n",
       "      <td>20160902</td>\n",
       "      <td>Other</td>\n",
       "      <td>1</td>\n",
       "      <td>UC Browser</td>\n",
       "      <td>Linux</td>\n",
       "      <td>False</td>\n",
       "      <td>desktop</td>\n",
       "      <td>Asia</td>\n",
       "      <td>Southeast Asia</td>\n",
       "      <td>...</td>\n",
       "      <td>0.0</td>\n",
       "      <td>(not set)</td>\n",
       "      <td>google</td>\n",
       "      <td>organic</td>\n",
       "      <td>NaN</td>\n",
       "      <td>NaN</td>\n",
       "      <td>NaN</td>\n",
       "      <td>NaN</td>\n",
       "      <td>False</td>\n",
       "      <td>0.0</td>\n",
       "    </tr>\n",
       "    <tr>\n",
       "      <th>4</th>\n",
       "      <td>Organic Search</td>\n",
       "      <td>20160902</td>\n",
       "      <td>Other</td>\n",
       "      <td>2</td>\n",
       "      <td>Chrome</td>\n",
       "      <td>Android</td>\n",
       "      <td>True</td>\n",
       "      <td>mobile</td>\n",
       "      <td>Europe</td>\n",
       "      <td>Northern Europe</td>\n",
       "      <td>...</td>\n",
       "      <td>0.0</td>\n",
       "      <td>(not set)</td>\n",
       "      <td>google</td>\n",
       "      <td>organic</td>\n",
       "      <td>NaN</td>\n",
       "      <td>NaN</td>\n",
       "      <td>NaN</td>\n",
       "      <td>NaN</td>\n",
       "      <td>False</td>\n",
       "      <td>0.0</td>\n",
       "    </tr>\n",
       "  </tbody>\n",
       "</table>\n",
       "<p>5 rows × 26 columns</p>\n",
       "</div>"
      ],
      "text/plain": [
       "  channelGrouping      date fullVisitorId  visitNumber device.browser  \\\n",
       "0  Organic Search  20160902         Other            1         Chrome   \n",
       "1  Organic Search  20160902         Other            1        Firefox   \n",
       "2  Organic Search  20160902         Other            1         Chrome   \n",
       "3  Organic Search  20160902         Other            1     UC Browser   \n",
       "4  Organic Search  20160902         Other            2         Chrome   \n",
       "\n",
       "  device.operatingSystem  device.isMobile device.deviceCategory  \\\n",
       "0                Windows            False               desktop   \n",
       "1              Macintosh            False               desktop   \n",
       "2                Windows            False               desktop   \n",
       "3                  Linux            False               desktop   \n",
       "4                Android             True                mobile   \n",
       "\n",
       "  geoNetwork.continent geoNetwork.subContinent  ... totals.transactionRevenue  \\\n",
       "0                 Asia            Western Asia  ...                       0.0   \n",
       "1              Oceania             Australasia  ...                       0.0   \n",
       "2               Europe         Southern Europe  ...                       0.0   \n",
       "3                 Asia          Southeast Asia  ...                       0.0   \n",
       "4               Europe         Northern Europe  ...                       0.0   \n",
       "\n",
       "  trafficSource.campaign trafficSource.source trafficSource.medium  \\\n",
       "0              (not set)               google              organic   \n",
       "1              (not set)               google              organic   \n",
       "2              (not set)               google              organic   \n",
       "3              (not set)               google              organic   \n",
       "4              (not set)               google              organic   \n",
       "\n",
       "   trafficSource.adwordsClickInfo.page  trafficSource.adwordsClickInfo.slot  \\\n",
       "0                                  NaN                                  NaN   \n",
       "1                                  NaN                                  NaN   \n",
       "2                                  NaN                                  NaN   \n",
       "3                                  NaN                                  NaN   \n",
       "4                                  NaN                                  NaN   \n",
       "\n",
       "   trafficSource.adwordsClickInfo.adNetworkType trafficSource.adContent  \\\n",
       "0                                           NaN                     NaN   \n",
       "1                                           NaN                     NaN   \n",
       "2                                           NaN                     NaN   \n",
       "3                                           NaN                     NaN   \n",
       "4                                           NaN                     NaN   \n",
       "\n",
       "  Purchase_Flag Log_Revenue  \n",
       "0         False         0.0  \n",
       "1         False         0.0  \n",
       "2         False         0.0  \n",
       "3         False         0.0  \n",
       "4         False         0.0  \n",
       "\n",
       "[5 rows x 26 columns]"
      ]
     },
     "execution_count": 94,
     "metadata": {},
     "output_type": "execute_result"
    }
   ],
   "source": [
    "train_df.head()"
   ]
  },
  {
   "cell_type": "markdown",
   "metadata": {},
   "source": [
    "-----\n",
    "# Statistical Modelling"
   ]
  },
  {
   "cell_type": "markdown",
   "metadata": {},
   "source": [
    "I log-transform the revenue from each visit as the response variable:\n",
    "\n",
    "$$ln(totals.transactionRevenue + 1)$$"
   ]
  },
  {
   "cell_type": "code",
   "execution_count": 81,
   "metadata": {},
   "outputs": [],
   "source": [
    "train_df['Log_Revenue'] = np.log(train_df['totals.transactionRevenue'] + 1)"
   ]
  },
  {
   "cell_type": "markdown",
   "metadata": {},
   "source": [
    "The summary ouputs below demonstrate how the transformation affects the response variable distribution:"
   ]
  },
  {
   "cell_type": "code",
   "execution_count": 146,
   "metadata": {},
   "outputs": [
    {
     "data": {
      "text/plain": [
       "count    903653.000000\n",
       "mean          0.227118\n",
       "std           2.003710\n",
       "min           0.000000\n",
       "25%           0.000000\n",
       "50%           0.000000\n",
       "75%           0.000000\n",
       "max          23.864375\n",
       "Name: Log_Revenue, dtype: float64"
      ]
     },
     "execution_count": 146,
     "metadata": {},
     "output_type": "execute_result"
    }
   ],
   "source": [
    "train_df['Log_Revenue'].describe()"
   ]
  },
  {
   "cell_type": "code",
   "execution_count": 147,
   "metadata": {},
   "outputs": [
    {
     "data": {
      "text/plain": [
       "count    9.036530e+05\n",
       "mean     1.704273e+06\n",
       "std      5.277866e+07\n",
       "min      0.000000e+00\n",
       "25%      0.000000e+00\n",
       "50%      0.000000e+00\n",
       "75%      0.000000e+00\n",
       "max      2.312950e+10\n",
       "Name: totals.transactionRevenue, dtype: float64"
      ]
     },
     "execution_count": 147,
     "metadata": {},
     "output_type": "execute_result"
    }
   ],
   "source": [
    "train_df['totals.transactionRevenue'].describe()"
   ]
  },
  {
   "cell_type": "markdown",
   "metadata": {},
   "source": [
    "#### Encode Categorical Variables"
   ]
  },
  {
   "cell_type": "code",
   "execution_count": 82,
   "metadata": {},
   "outputs": [],
   "source": [
    "# dummy encode categorical (object dtype) columns using Pandas get_dummies()\n",
    "# dummy_na=True: parameter creates extra column to represent NaN (no need to impute/fill!)\n",
    "\n",
    "train_df_dummies = pd.get_dummies(train_df, dummy_na=True)"
   ]
  },
  {
   "cell_type": "code",
   "execution_count": 83,
   "metadata": {},
   "outputs": [
    {
     "data": {
      "text/plain": [
       "Index(['date', 'visitNumber', 'device.isMobile', 'totals.hits',\n",
       "       'totals.pageviews', 'totals.transactionRevenue', 'Purchase_Flag',\n",
       "       'Log_Revenue', 'channelGrouping_(Other)', 'channelGrouping_Affiliates',\n",
       "       ...\n",
       "       'trafficSource.adContent_Ad from 12/13/16',\n",
       "       'trafficSource.adContent_Display Ad created 3/11/14',\n",
       "       'trafficSource.adContent_Display Ad created 3/11/15',\n",
       "       'trafficSource.adContent_Full auto ad IMAGE ONLY',\n",
       "       'trafficSource.adContent_Google Merchandise Collection',\n",
       "       'trafficSource.adContent_Google Online Store',\n",
       "       'trafficSource.adContent_Other',\n",
       "       'trafficSource.adContent_{KeyWord:Google Brand Items}',\n",
       "       'trafficSource.adContent_{KeyWord:Google Merchandise}',\n",
       "       'trafficSource.adContent_nan'],\n",
       "      dtype='object', length=718)"
      ]
     },
     "execution_count": 83,
     "metadata": {},
     "output_type": "execute_result"
    }
   ],
   "source": [
    "train_df_dummies.columns"
   ]
  },
  {
   "cell_type": "markdown",
   "metadata": {},
   "source": [
    "---------\n",
    "\n",
    "Aside: \n",
    "\n",
    "I attempted to build a classification model on the `Purchase_Flag` column, but due to some potential leakage, I found that the predictions were perfect. Therefore, I will no longer consider a binary classification model and focus on the initial task of predicting log revenue."
   ]
  },
  {
   "cell_type": "code",
   "execution_count": 148,
   "metadata": {},
   "outputs": [
    {
     "data": {
      "text/plain": [
       "\"\\ntrain_df['Purchase_Flag'] = train_df['totals.transactionRevenue'] > 0\\ntrain_df['Purchase_Flag'].value_counts()\\n\\ny = train_df_dummies['Purchase_Flag']\\nX = train_df_dummies.drop(['Purchase_Flag','Log_Revenue','totals.transactionRevenue'],axis=1)\\n\\nX_train, X_test, y_train, y_test = train_test_split(X, y, test_size=0.25, random_state=42)\\n\\ntree_class = tree.DecisionTreeClassifier(max_depth=5)\\ntree_class.fit(X_train, y_train)\\nyhat_tree_class = tree_class.predict(X_test)\\nmetrics.confusion_matrix(y_test, yhat_tree_class)\\n\""
      ]
     },
     "execution_count": 148,
     "metadata": {},
     "output_type": "execute_result"
    }
   ],
   "source": [
    "# CREATING A BINARY RESPONSE VARIABLE: IF transactionRevenue > 0, THEN TRUE:\n",
    "'''\n",
    "train_df['Purchase_Flag'] = train_df['totals.transactionRevenue'] > 0\n",
    "train_df['Purchase_Flag'].value_counts()\n",
    "\n",
    "y = train_df_dummies['Purchase_Flag']\n",
    "X = train_df_dummies.drop(['Purchase_Flag','Log_Revenue','totals.transactionRevenue'],axis=1)\n",
    "\n",
    "X_train, X_test, y_train, y_test = train_test_split(X, y, test_size=0.25, random_state=42)\n",
    "\n",
    "tree_class = tree.DecisionTreeClassifier(max_depth=5)\n",
    "tree_class.fit(X_train, y_train)\n",
    "yhat_tree_class = tree_class.predict(X_test)\n",
    "metrics.confusion_matrix(y_test, yhat_tree_class)\n",
    "'''"
   ]
  },
  {
   "cell_type": "markdown",
   "metadata": {},
   "source": [
    "-------\n",
    "\n",
    "### Model 1 - Single Regression Tree"
   ]
  },
  {
   "cell_type": "code",
   "execution_count": 105,
   "metadata": {},
   "outputs": [],
   "source": [
    "# y = train_df['totals.transactionRevenue']\n",
    "# X = train_df.drop(['totals.transactionRevenue'],axis=1)\n",
    "\n",
    "# WORKING WITH SUBSET FOR NOW:\n",
    "y = train_df_dummies['Log_Revenue']\n",
    "X = train_df_dummies.drop(['Log_Revenue','totals.transactionRevenue'],axis=1)\n",
    "X_train, X_test, y_train, y_test = train_test_split(X, y, test_size=0.25, random_state=42)"
   ]
  },
  {
   "cell_type": "code",
   "execution_count": 106,
   "metadata": {},
   "outputs": [
    {
     "data": {
      "text/plain": [
       "DecisionTreeRegressor(max_depth=5)"
      ]
     },
     "execution_count": 106,
     "metadata": {},
     "output_type": "execute_result"
    }
   ],
   "source": [
    "tree_reg = tree.DecisionTreeRegressor(max_depth=5)\n",
    "tree_reg.fit(X_train, y_train)"
   ]
  },
  {
   "cell_type": "markdown",
   "metadata": {},
   "source": [
    "##### Model Evaluation:"
   ]
  },
  {
   "cell_type": "code",
   "execution_count": 107,
   "metadata": {},
   "outputs": [],
   "source": [
    "yhat_tree_reg = tree_reg.predict(X_test)"
   ]
  },
  {
   "cell_type": "code",
   "execution_count": 109,
   "metadata": {},
   "outputs": [
    {
     "data": {
      "text/plain": [
       "2.9018251720330053"
      ]
     },
     "execution_count": 109,
     "metadata": {},
     "output_type": "execute_result"
    }
   ],
   "source": [
    "metrics.mean_squared_error(y_test, yhat_tree_reg)"
   ]
  },
  {
   "cell_type": "code",
   "execution_count": 128,
   "metadata": {},
   "outputs": [
    {
     "data": {
      "text/plain": [
       "170.00662721243324"
      ]
     },
     "execution_count": 128,
     "metadata": {},
     "output_type": "execute_result"
    }
   ],
   "source": [
    "metrics.mean_squared_error(y_test[y_test > 0], yhat_tree_reg[y_test > 0])"
   ]
  },
  {
   "cell_type": "markdown",
   "metadata": {},
   "source": [
    "----\n",
    "### Model 2 -  Random Forest Classifier"
   ]
  },
  {
   "cell_type": "code",
   "execution_count": 113,
   "metadata": {},
   "outputs": [
    {
     "ename": "NameError",
     "evalue": "name 'regressor' is not defined",
     "output_type": "error",
     "traceback": [
      "\u001b[0;31m---------------------------------------------------------------------------\u001b[0m",
      "\u001b[0;31mNameError\u001b[0m                                 Traceback (most recent call last)",
      "\u001b[0;32m<ipython-input-113-4156e9b4a6fc>\u001b[0m in \u001b[0;36m<module>\u001b[0;34m\u001b[0m\n\u001b[1;32m      1\u001b[0m \u001b[0mrf_reg\u001b[0m \u001b[0;34m=\u001b[0m \u001b[0mRandomForestRegressor\u001b[0m\u001b[0;34m(\u001b[0m\u001b[0mn_estimators\u001b[0m\u001b[0;34m=\u001b[0m\u001b[0;36m20\u001b[0m\u001b[0;34m,\u001b[0m \u001b[0mrandom_state\u001b[0m\u001b[0;34m=\u001b[0m\u001b[0;36m42\u001b[0m\u001b[0;34m)\u001b[0m\u001b[0;34m\u001b[0m\u001b[0;34m\u001b[0m\u001b[0m\n\u001b[1;32m      2\u001b[0m \u001b[0mrf_reg\u001b[0m\u001b[0;34m.\u001b[0m\u001b[0mfit\u001b[0m\u001b[0;34m(\u001b[0m\u001b[0mX_train\u001b[0m\u001b[0;34m,\u001b[0m \u001b[0my_train\u001b[0m\u001b[0;34m)\u001b[0m\u001b[0;34m\u001b[0m\u001b[0;34m\u001b[0m\u001b[0m\n\u001b[0;32m----> 3\u001b[0;31m \u001b[0myhat_rf_reg\u001b[0m \u001b[0;34m=\u001b[0m \u001b[0mregressor\u001b[0m\u001b[0;34m.\u001b[0m\u001b[0mpredict\u001b[0m\u001b[0;34m(\u001b[0m\u001b[0mX_test\u001b[0m\u001b[0;34m)\u001b[0m\u001b[0;34m\u001b[0m\u001b[0;34m\u001b[0m\u001b[0m\n\u001b[0m",
      "\u001b[0;31mNameError\u001b[0m: name 'regressor' is not defined"
     ]
    }
   ],
   "source": [
    "rf_reg = RandomForestRegressor(n_estimators=10, random_state=42)\n",
    "rf_reg.fit(X_train, y_train)"
   ]
  },
  {
   "cell_type": "markdown",
   "metadata": {},
   "source": [
    "##### Model Evaluation:"
   ]
  },
  {
   "cell_type": "code",
   "execution_count": 114,
   "metadata": {},
   "outputs": [],
   "source": [
    "yhat_rf_reg = rf_reg.predict(X_test)"
   ]
  },
  {
   "cell_type": "code",
   "execution_count": 115,
   "metadata": {},
   "outputs": [
    {
     "data": {
      "text/plain": [
       "2.960154080933274"
      ]
     },
     "execution_count": 115,
     "metadata": {},
     "output_type": "execute_result"
    }
   ],
   "source": [
    "metrics.mean_squared_error(y_test, yhat_rf_reg)"
   ]
  },
  {
   "cell_type": "code",
   "execution_count": 142,
   "metadata": {},
   "outputs": [
    {
     "data": {
      "text/plain": [
       "73651220000000.2"
      ]
     },
     "execution_count": 142,
     "metadata": {},
     "output_type": "execute_result"
    }
   ],
   "source": [
    "metrics.mean_squared_error(np.exp(y_test[25:30]), np.exp(yhat_rf_reg[25:30]))"
   ]
  },
  {
   "cell_type": "code",
   "execution_count": 127,
   "metadata": {},
   "outputs": [
    {
     "data": {
      "text/plain": [
       "148.88062848715484"
      ]
     },
     "execution_count": 127,
     "metadata": {},
     "output_type": "execute_result"
    }
   ],
   "source": [
    "metrics.mean_squared_error(y_test[y_test > 0], yhat_rf_reg[y_test > 0])"
   ]
  }
 ],
 "metadata": {
  "kernelspec": {
   "display_name": "Python 3",
   "language": "python",
   "name": "python3"
  },
  "language_info": {
   "codemirror_mode": {
    "name": "ipython",
    "version": 3
   },
   "file_extension": ".py",
   "mimetype": "text/x-python",
   "name": "python",
   "nbconvert_exporter": "python",
   "pygments_lexer": "ipython3",
   "version": "3.8.5"
  }
 },
 "nbformat": 4,
 "nbformat_minor": 5
}
