{
 "cells": [
  {
   "cell_type": "markdown",
   "id": "universal-columbus",
   "metadata": {},
   "source": [
    "# Customer Revenue Prediction EDA\n",
    "\n",
    "##### Yuji Mori\n",
    "##### Last Updated: 02/02/2021\n",
    "##### STATS 404 WQ2021"
   ]
  },
  {
   "cell_type": "code",
   "execution_count": 1,
   "id": "conceptual-machine",
   "metadata": {},
   "outputs": [],
   "source": [
    "import os\n",
    "import json\n",
    "import numpy as np\n",
    "import pandas as pd\n",
    "from pandas.io.json import json_normalize\n",
    "\n",
    "import matplotlib.pyplot as plt \n",
    "import seaborn as sns "
   ]
  },
  {
   "cell_type": "markdown",
   "id": "southeast-stable",
   "metadata": {},
   "source": [
    "--------\n",
    "### Step 1. Import Data and Flatten JSON columns"
   ]
  },
  {
   "cell_type": "markdown",
   "id": "proud-vegetation",
   "metadata": {},
   "source": [
    "**NOTE: MY DATA IS ALREADY SPLIT INTO TRAINING/TESTING (train_v2.csv, test_v2.csv)**\n",
    "\n",
    "I am working with a CSV, but the nested JSON columns were originally a set of BigQuery tables. The data dictionary for these tables is here:\n",
    "\n",
    "https://support.google.com/analytics/answer/3437719?hl=en\n",
    "\n",
    "For now I am only importing 100k columns because my training dataset is 25gb total"
   ]
  },
  {
   "cell_type": "code",
   "execution_count": 2,
   "id": "protected-exclusive",
   "metadata": {},
   "outputs": [],
   "source": [
    "# JSON flattening code\n",
    "# This code was widely used by most Kaggle competitiors due to JSON structure of some fields\n",
    "# credit goes to:\n",
    "# https://www.kaggle.com/julian3833/1-quick-start-read-csv-and-flatten-json-fields\n",
    "\n",
    "def load_df(csv_path='../data/test.csv', nrows=None):\n",
    "    JSON_COLUMNS = ['device', 'geoNetwork', 'totals', 'trafficSource']\n",
    "    df = pd.read_csv(csv_path, \n",
    "                     converters={column: json.loads for column in JSON_COLUMNS}, \n",
    "                     dtype={'fullVisitorId': 'str'}, # Important!!\n",
    "                     nrows=nrows)\n",
    "    \n",
    "    for column in JSON_COLUMNS:\n",
    "        column_as_df = json_normalize(df[column])\n",
    "        column_as_df.columns = [f\"{column}.{subcolumn}\" for subcolumn in column_as_df.columns]\n",
    "        df = df.drop(column, axis=1).merge(column_as_df, right_index=True, left_index=True)\n",
    "    print(f\"Loaded {os.path.basename(csv_path)}. Shape: {df.shape}\")\n",
    "    return df"
   ]
  },
  {
   "cell_type": "code",
   "execution_count": 3,
   "id": "continuing-honduras",
   "metadata": {},
   "outputs": [
    {
     "name": "stderr",
     "output_type": "stream",
     "text": [
      "<ipython-input-2-382b1299a998>:14: FutureWarning: pandas.io.json.json_normalize is deprecated, use pandas.json_normalize instead\n",
      "  column_as_df = json_normalize(df[column])\n"
     ]
    },
    {
     "name": "stdout",
     "output_type": "stream",
     "text": [
      "Loaded train_v2.csv. Shape: (100000, 59)\n"
     ]
    }
   ],
   "source": [
    "train_df = load_df(csv_path='../data/train_v2.csv', nrows=100000)"
   ]
  },
  {
   "cell_type": "code",
   "execution_count": 4,
   "id": "premier-heaven",
   "metadata": {},
   "outputs": [
    {
     "data": {
      "text/html": [
       "<div>\n",
       "<style scoped>\n",
       "    .dataframe tbody tr th:only-of-type {\n",
       "        vertical-align: middle;\n",
       "    }\n",
       "\n",
       "    .dataframe tbody tr th {\n",
       "        vertical-align: top;\n",
       "    }\n",
       "\n",
       "    .dataframe thead th {\n",
       "        text-align: right;\n",
       "    }\n",
       "</style>\n",
       "<table border=\"1\" class=\"dataframe\">\n",
       "  <thead>\n",
       "    <tr style=\"text-align: right;\">\n",
       "      <th></th>\n",
       "      <th>channelGrouping</th>\n",
       "      <th>customDimensions</th>\n",
       "      <th>date</th>\n",
       "      <th>fullVisitorId</th>\n",
       "      <th>hits</th>\n",
       "      <th>socialEngagementType</th>\n",
       "      <th>visitId</th>\n",
       "      <th>visitNumber</th>\n",
       "      <th>visitStartTime</th>\n",
       "      <th>device.browser</th>\n",
       "      <th>...</th>\n",
       "      <th>trafficSource.keyword</th>\n",
       "      <th>trafficSource.adwordsClickInfo.criteriaParameters</th>\n",
       "      <th>trafficSource.referralPath</th>\n",
       "      <th>trafficSource.isTrueDirect</th>\n",
       "      <th>trafficSource.adContent</th>\n",
       "      <th>trafficSource.adwordsClickInfo.page</th>\n",
       "      <th>trafficSource.adwordsClickInfo.slot</th>\n",
       "      <th>trafficSource.adwordsClickInfo.gclId</th>\n",
       "      <th>trafficSource.adwordsClickInfo.adNetworkType</th>\n",
       "      <th>trafficSource.adwordsClickInfo.isVideoAd</th>\n",
       "    </tr>\n",
       "  </thead>\n",
       "  <tbody>\n",
       "    <tr>\n",
       "      <th>0</th>\n",
       "      <td>Organic Search</td>\n",
       "      <td>[{'index': '4', 'value': 'EMEA'}]</td>\n",
       "      <td>20171016</td>\n",
       "      <td>3162355547410993243</td>\n",
       "      <td>[{'hitNumber': '1', 'time': '0', 'hour': '17',...</td>\n",
       "      <td>Not Socially Engaged</td>\n",
       "      <td>1508198450</td>\n",
       "      <td>1</td>\n",
       "      <td>1508198450</td>\n",
       "      <td>Firefox</td>\n",
       "      <td>...</td>\n",
       "      <td>water bottle</td>\n",
       "      <td>not available in demo dataset</td>\n",
       "      <td>NaN</td>\n",
       "      <td>NaN</td>\n",
       "      <td>NaN</td>\n",
       "      <td>NaN</td>\n",
       "      <td>NaN</td>\n",
       "      <td>NaN</td>\n",
       "      <td>NaN</td>\n",
       "      <td>NaN</td>\n",
       "    </tr>\n",
       "    <tr>\n",
       "      <th>1</th>\n",
       "      <td>Referral</td>\n",
       "      <td>[{'index': '4', 'value': 'North America'}]</td>\n",
       "      <td>20171016</td>\n",
       "      <td>8934116514970143966</td>\n",
       "      <td>[{'hitNumber': '1', 'time': '0', 'hour': '10',...</td>\n",
       "      <td>Not Socially Engaged</td>\n",
       "      <td>1508176307</td>\n",
       "      <td>6</td>\n",
       "      <td>1508176307</td>\n",
       "      <td>Chrome</td>\n",
       "      <td>...</td>\n",
       "      <td>NaN</td>\n",
       "      <td>not available in demo dataset</td>\n",
       "      <td>/a/google.com/transportation/mtv-services/bike...</td>\n",
       "      <td>NaN</td>\n",
       "      <td>NaN</td>\n",
       "      <td>NaN</td>\n",
       "      <td>NaN</td>\n",
       "      <td>NaN</td>\n",
       "      <td>NaN</td>\n",
       "      <td>NaN</td>\n",
       "    </tr>\n",
       "    <tr>\n",
       "      <th>2</th>\n",
       "      <td>Direct</td>\n",
       "      <td>[{'index': '4', 'value': 'North America'}]</td>\n",
       "      <td>20171016</td>\n",
       "      <td>7992466427990357681</td>\n",
       "      <td>[{'hitNumber': '1', 'time': '0', 'hour': '17',...</td>\n",
       "      <td>Not Socially Engaged</td>\n",
       "      <td>1508201613</td>\n",
       "      <td>1</td>\n",
       "      <td>1508201613</td>\n",
       "      <td>Chrome</td>\n",
       "      <td>...</td>\n",
       "      <td>NaN</td>\n",
       "      <td>not available in demo dataset</td>\n",
       "      <td>NaN</td>\n",
       "      <td>True</td>\n",
       "      <td>NaN</td>\n",
       "      <td>NaN</td>\n",
       "      <td>NaN</td>\n",
       "      <td>NaN</td>\n",
       "      <td>NaN</td>\n",
       "      <td>NaN</td>\n",
       "    </tr>\n",
       "    <tr>\n",
       "      <th>3</th>\n",
       "      <td>Organic Search</td>\n",
       "      <td>[{'index': '4', 'value': 'EMEA'}]</td>\n",
       "      <td>20171016</td>\n",
       "      <td>9075655783635761930</td>\n",
       "      <td>[{'hitNumber': '1', 'time': '0', 'hour': '9', ...</td>\n",
       "      <td>Not Socially Engaged</td>\n",
       "      <td>1508169851</td>\n",
       "      <td>1</td>\n",
       "      <td>1508169851</td>\n",
       "      <td>Chrome</td>\n",
       "      <td>...</td>\n",
       "      <td>(not provided)</td>\n",
       "      <td>not available in demo dataset</td>\n",
       "      <td>NaN</td>\n",
       "      <td>NaN</td>\n",
       "      <td>NaN</td>\n",
       "      <td>NaN</td>\n",
       "      <td>NaN</td>\n",
       "      <td>NaN</td>\n",
       "      <td>NaN</td>\n",
       "      <td>NaN</td>\n",
       "    </tr>\n",
       "    <tr>\n",
       "      <th>4</th>\n",
       "      <td>Organic Search</td>\n",
       "      <td>[{'index': '4', 'value': 'Central America'}]</td>\n",
       "      <td>20171016</td>\n",
       "      <td>6960673291025684308</td>\n",
       "      <td>[{'hitNumber': '1', 'time': '0', 'hour': '14',...</td>\n",
       "      <td>Not Socially Engaged</td>\n",
       "      <td>1508190552</td>\n",
       "      <td>1</td>\n",
       "      <td>1508190552</td>\n",
       "      <td>Chrome</td>\n",
       "      <td>...</td>\n",
       "      <td>(not provided)</td>\n",
       "      <td>not available in demo dataset</td>\n",
       "      <td>NaN</td>\n",
       "      <td>NaN</td>\n",
       "      <td>NaN</td>\n",
       "      <td>NaN</td>\n",
       "      <td>NaN</td>\n",
       "      <td>NaN</td>\n",
       "      <td>NaN</td>\n",
       "      <td>NaN</td>\n",
       "    </tr>\n",
       "  </tbody>\n",
       "</table>\n",
       "<p>5 rows × 59 columns</p>\n",
       "</div>"
      ],
      "text/plain": [
       "  channelGrouping                              customDimensions      date  \\\n",
       "0  Organic Search             [{'index': '4', 'value': 'EMEA'}]  20171016   \n",
       "1        Referral    [{'index': '4', 'value': 'North America'}]  20171016   \n",
       "2          Direct    [{'index': '4', 'value': 'North America'}]  20171016   \n",
       "3  Organic Search             [{'index': '4', 'value': 'EMEA'}]  20171016   \n",
       "4  Organic Search  [{'index': '4', 'value': 'Central America'}]  20171016   \n",
       "\n",
       "         fullVisitorId                                               hits  \\\n",
       "0  3162355547410993243  [{'hitNumber': '1', 'time': '0', 'hour': '17',...   \n",
       "1  8934116514970143966  [{'hitNumber': '1', 'time': '0', 'hour': '10',...   \n",
       "2  7992466427990357681  [{'hitNumber': '1', 'time': '0', 'hour': '17',...   \n",
       "3  9075655783635761930  [{'hitNumber': '1', 'time': '0', 'hour': '9', ...   \n",
       "4  6960673291025684308  [{'hitNumber': '1', 'time': '0', 'hour': '14',...   \n",
       "\n",
       "   socialEngagementType     visitId  visitNumber  visitStartTime  \\\n",
       "0  Not Socially Engaged  1508198450            1      1508198450   \n",
       "1  Not Socially Engaged  1508176307            6      1508176307   \n",
       "2  Not Socially Engaged  1508201613            1      1508201613   \n",
       "3  Not Socially Engaged  1508169851            1      1508169851   \n",
       "4  Not Socially Engaged  1508190552            1      1508190552   \n",
       "\n",
       "  device.browser  ... trafficSource.keyword  \\\n",
       "0        Firefox  ...          water bottle   \n",
       "1         Chrome  ...                   NaN   \n",
       "2         Chrome  ...                   NaN   \n",
       "3         Chrome  ...        (not provided)   \n",
       "4         Chrome  ...        (not provided)   \n",
       "\n",
       "  trafficSource.adwordsClickInfo.criteriaParameters  \\\n",
       "0                     not available in demo dataset   \n",
       "1                     not available in demo dataset   \n",
       "2                     not available in demo dataset   \n",
       "3                     not available in demo dataset   \n",
       "4                     not available in demo dataset   \n",
       "\n",
       "                          trafficSource.referralPath  \\\n",
       "0                                                NaN   \n",
       "1  /a/google.com/transportation/mtv-services/bike...   \n",
       "2                                                NaN   \n",
       "3                                                NaN   \n",
       "4                                                NaN   \n",
       "\n",
       "  trafficSource.isTrueDirect  trafficSource.adContent  \\\n",
       "0                        NaN                      NaN   \n",
       "1                        NaN                      NaN   \n",
       "2                       True                      NaN   \n",
       "3                        NaN                      NaN   \n",
       "4                        NaN                      NaN   \n",
       "\n",
       "  trafficSource.adwordsClickInfo.page trafficSource.adwordsClickInfo.slot  \\\n",
       "0                                 NaN                                 NaN   \n",
       "1                                 NaN                                 NaN   \n",
       "2                                 NaN                                 NaN   \n",
       "3                                 NaN                                 NaN   \n",
       "4                                 NaN                                 NaN   \n",
       "\n",
       "  trafficSource.adwordsClickInfo.gclId  \\\n",
       "0                                  NaN   \n",
       "1                                  NaN   \n",
       "2                                  NaN   \n",
       "3                                  NaN   \n",
       "4                                  NaN   \n",
       "\n",
       "  trafficSource.adwordsClickInfo.adNetworkType  \\\n",
       "0                                          NaN   \n",
       "1                                          NaN   \n",
       "2                                          NaN   \n",
       "3                                          NaN   \n",
       "4                                          NaN   \n",
       "\n",
       "  trafficSource.adwordsClickInfo.isVideoAd  \n",
       "0                                      NaN  \n",
       "1                                      NaN  \n",
       "2                                      NaN  \n",
       "3                                      NaN  \n",
       "4                                      NaN  \n",
       "\n",
       "[5 rows x 59 columns]"
      ]
     },
     "execution_count": 4,
     "metadata": {},
     "output_type": "execute_result"
    }
   ],
   "source": [
    "train_df.head()"
   ]
  },
  {
   "cell_type": "code",
   "execution_count": 5,
   "id": "valid-adaptation",
   "metadata": {},
   "outputs": [
    {
     "data": {
      "text/plain": [
       "Index(['channelGrouping', 'customDimensions', 'date', 'fullVisitorId', 'hits',\n",
       "       'socialEngagementType', 'visitId', 'visitNumber', 'visitStartTime',\n",
       "       'device.browser', 'device.browserVersion', 'device.browserSize',\n",
       "       'device.operatingSystem', 'device.operatingSystemVersion',\n",
       "       'device.isMobile', 'device.mobileDeviceBranding',\n",
       "       'device.mobileDeviceModel', 'device.mobileInputSelector',\n",
       "       'device.mobileDeviceInfo', 'device.mobileDeviceMarketingName',\n",
       "       'device.flashVersion', 'device.language', 'device.screenColors',\n",
       "       'device.screenResolution', 'device.deviceCategory',\n",
       "       'geoNetwork.continent', 'geoNetwork.subContinent', 'geoNetwork.country',\n",
       "       'geoNetwork.region', 'geoNetwork.metro', 'geoNetwork.city',\n",
       "       'geoNetwork.cityId', 'geoNetwork.networkDomain', 'geoNetwork.latitude',\n",
       "       'geoNetwork.longitude', 'geoNetwork.networkLocation', 'totals.visits',\n",
       "       'totals.hits', 'totals.pageviews', 'totals.bounces', 'totals.newVisits',\n",
       "       'totals.sessionQualityDim', 'totals.timeOnSite', 'totals.transactions',\n",
       "       'totals.transactionRevenue', 'totals.totalTransactionRevenue',\n",
       "       'trafficSource.campaign', 'trafficSource.source',\n",
       "       'trafficSource.medium', 'trafficSource.keyword',\n",
       "       'trafficSource.adwordsClickInfo.criteriaParameters',\n",
       "       'trafficSource.referralPath', 'trafficSource.isTrueDirect',\n",
       "       'trafficSource.adContent', 'trafficSource.adwordsClickInfo.page',\n",
       "       'trafficSource.adwordsClickInfo.slot',\n",
       "       'trafficSource.adwordsClickInfo.gclId',\n",
       "       'trafficSource.adwordsClickInfo.adNetworkType',\n",
       "       'trafficSource.adwordsClickInfo.isVideoAd'],\n",
       "      dtype='object')"
      ]
     },
     "execution_count": 5,
     "metadata": {},
     "output_type": "execute_result"
    }
   ],
   "source": [
    "train_df.columns"
   ]
  },
  {
   "cell_type": "markdown",
   "id": "concerned-terrorist",
   "metadata": {},
   "source": [
    "--------\n",
    "\n",
    "### Step 2: Remove uninformative columns"
   ]
  },
  {
   "cell_type": "code",
   "execution_count": 6,
   "id": "fifteen-capital",
   "metadata": {},
   "outputs": [
    {
     "data": {
      "text/plain": [
       "totals.totalTransactionRevenue                  99003\n",
       "totals.transactionRevenue                       99003\n",
       "totals.transactions                             98998\n",
       "trafficSource.adContent                         96237\n",
       "trafficSource.adwordsClickInfo.isVideoAd        95609\n",
       "trafficSource.adwordsClickInfo.slot             95609\n",
       "trafficSource.adwordsClickInfo.page             95609\n",
       "trafficSource.adwordsClickInfo.adNetworkType    95609\n",
       "trafficSource.adwordsClickInfo.gclId            95571\n",
       "trafficSource.isTrueDirect                      69538\n",
       "trafficSource.keyword                           69218\n",
       "trafficSource.referralPath                      65843\n",
       "totals.sessionQualityDim                        53872\n",
       "totals.bounces                                  50146\n",
       "totals.timeOnSite                               49974\n",
       "totals.newVisits                                23635\n",
       "totals.pageviews                                   11\n",
       "dtype: int64"
      ]
     },
     "execution_count": 6,
     "metadata": {},
     "output_type": "execute_result"
    }
   ],
   "source": [
    "# identify columns with missing values\n",
    "missing_check = train_df.isnull().sum().sort_values(ascending = False) \n",
    "missing_check[~(missing_check == 0)]\n",
    "\n",
    "# despite some poor fill rates, we found that there are no columns that are 100% missing."
   ]
  },
  {
   "cell_type": "markdown",
   "id": "southern-devices",
   "metadata": {},
   "source": [
    "Many of these columns may be dropped later, but I will check them out in the EDA for now.\n",
    "\n",
    "Next, I want to identify and drop columns that are always the same value:"
   ]
  },
  {
   "cell_type": "code",
   "execution_count": 7,
   "id": "loving-thomas",
   "metadata": {},
   "outputs": [],
   "source": [
    "# dropping columns that are always the same value\n",
    "nunique_cols = [col for col in train_df.columns if train_df[col].nunique() == 1]\n",
    "train_df.drop(nunique_cols, axis=1,inplace=True)"
   ]
  },
  {
   "cell_type": "code",
   "execution_count": 8,
   "id": "tough-recorder",
   "metadata": {},
   "outputs": [],
   "source": [
    "# I AM REMOVING THE ENTIRE 'hits' COLUMN (for now)\n",
    "# it has detailed metadata, but it may be beyond the scope of this project\n",
    "train_df.drop(['customDimensions','hits'], axis=1,inplace=True)"
   ]
  },
  {
   "cell_type": "code",
   "execution_count": 9,
   "id": "short-underwear",
   "metadata": {},
   "outputs": [
    {
     "name": "stdout",
     "output_type": "stream",
     "text": [
      "(100000, 34)\n"
     ]
    },
    {
     "data": {
      "text/plain": [
       "Index(['channelGrouping', 'date', 'fullVisitorId', 'visitId', 'visitNumber',\n",
       "       'visitStartTime', 'device.browser', 'device.operatingSystem',\n",
       "       'device.isMobile', 'device.deviceCategory', 'geoNetwork.continent',\n",
       "       'geoNetwork.subContinent', 'geoNetwork.country', 'geoNetwork.region',\n",
       "       'geoNetwork.metro', 'geoNetwork.city', 'geoNetwork.networkDomain',\n",
       "       'totals.hits', 'totals.pageviews', 'totals.sessionQualityDim',\n",
       "       'totals.timeOnSite', 'totals.transactions', 'totals.transactionRevenue',\n",
       "       'totals.totalTransactionRevenue', 'trafficSource.campaign',\n",
       "       'trafficSource.source', 'trafficSource.medium', 'trafficSource.keyword',\n",
       "       'trafficSource.referralPath', 'trafficSource.adContent',\n",
       "       'trafficSource.adwordsClickInfo.page',\n",
       "       'trafficSource.adwordsClickInfo.slot',\n",
       "       'trafficSource.adwordsClickInfo.gclId',\n",
       "       'trafficSource.adwordsClickInfo.adNetworkType'],\n",
       "      dtype='object')"
      ]
     },
     "execution_count": 9,
     "metadata": {},
     "output_type": "execute_result"
    }
   ],
   "source": [
    "# final column list:\n",
    "print(train_df.shape)\n",
    "train_df.columns"
   ]
  },
  {
   "cell_type": "markdown",
   "id": "automotive-opportunity",
   "metadata": {},
   "source": [
    "----------\n",
    "### Step 3: Exploring the Target Variable"
   ]
  },
  {
   "cell_type": "code",
   "execution_count": 10,
   "id": "least-tsunami",
   "metadata": {},
   "outputs": [
    {
     "data": {
      "text/plain": [
       "count           997.000000\n",
       "mean      136845717.151454\n",
       "std       302446564.429077\n",
       "min         3400000.000000\n",
       "25%        27990000.000000\n",
       "50%        53570000.000000\n",
       "75%       114650000.000000\n",
       "max      5501000000.000000\n",
       "Name: totals.totalTransactionRevenue, dtype: object"
      ]
     },
     "execution_count": 10,
     "metadata": {},
     "output_type": "execute_result"
    }
   ],
   "source": [
    "# FIRST, CONVERT TO NUMERIC:\n",
    "train_df['totals.totalTransactionRevenue'] = pd.to_numeric(train_df['totals.totalTransactionRevenue'])\n",
    "\n",
    "train_df['totals.totalTransactionRevenue'].describe().apply(lambda x: format(x, 'f'))"
   ]
  },
  {
   "cell_type": "code",
   "execution_count": 11,
   "id": "legislative-mailman",
   "metadata": {},
   "outputs": [
    {
     "data": {
      "text/plain": [
       "99003"
      ]
     },
     "execution_count": 11,
     "metadata": {},
     "output_type": "execute_result"
    }
   ],
   "source": [
    "(train_df['totals.totalTransactionRevenue'].isnull()).sum()"
   ]
  },
  {
   "cell_type": "code",
   "execution_count": 12,
   "id": "searching-insertion",
   "metadata": {},
   "outputs": [
    {
     "data": {
      "text/plain": [
       "997"
      ]
     },
     "execution_count": 12,
     "metadata": {},
     "output_type": "execute_result"
    }
   ],
   "source": [
    "(train_df['totals.totalTransactionRevenue'].notnull()).sum()"
   ]
  },
  {
   "cell_type": "code",
   "execution_count": 13,
   "id": "adolescent-confidence",
   "metadata": {},
   "outputs": [
    {
     "data": {
      "text/plain": [
       "0.997"
      ]
     },
     "execution_count": 13,
     "metadata": {},
     "output_type": "execute_result"
    }
   ],
   "source": [
    "((train_df['totals.totalTransactionRevenue'].notnull()).sum() / train_df.shape[0])*100"
   ]
  },
  {
   "cell_type": "markdown",
   "id": "recreational-mouth",
   "metadata": {},
   "source": [
    "we see that the training dataset is highly unbalanced, below 1% fill rate. "
   ]
  },
  {
   "cell_type": "code",
   "execution_count": 14,
   "id": "surgical-browser",
   "metadata": {},
   "outputs": [
    {
     "data": {
      "text/plain": [
       "<seaborn.axisgrid.FacetGrid at 0x193f338b0>"
      ]
     },
     "execution_count": 14,
     "metadata": {},
     "output_type": "execute_result"
    },
    {
     "data": {
      "image/png": "[encoded data removed]",
      "text/plain": [
       "<Figure size 360x360 with 1 Axes>"
      ]
     },
     "metadata": {},
     "output_type": "display_data"
    }
   ],
   "source": [
    "revenue_array = train_df['totals.totalTransactionRevenue']\n",
    "revenue_array = revenue_array[~np.isnan(revenue_array)]\n",
    "sns.set_style('whitegrid')\n",
    "sns.displot(revenue_array)"
   ]
  },
  {
   "cell_type": "code",
   "execution_count": 15,
   "id": "welsh-grace",
   "metadata": {},
   "outputs": [
    {
     "data": {
      "text/plain": [
       "<AxesSubplot:xlabel='totals.totalTransactionRevenue', ylabel='Density'>"
      ]
     },
     "execution_count": 15,
     "metadata": {},
     "output_type": "execute_result"
    },
    {
     "data": {
      "image/png": "[encoded data removed]",
      "text/plain": [
       "<Figure size 432x288 with 1 Axes>"
      ]
     },
     "metadata": {},
     "output_type": "display_data"
    }
   ],
   "source": [
    "sns.kdeplot(revenue_array)"
   ]
  },
  {
   "cell_type": "markdown",
   "id": "manufactured-captain",
   "metadata": {},
   "source": [
    "The original Kaggle competition asked for log transformed Revenue:"
   ]
  },
  {
   "cell_type": "code",
   "execution_count": 16,
   "id": "responsible-smile",
   "metadata": {},
   "outputs": [
    {
     "data": {
      "text/plain": [
       "<AxesSubplot:xlabel='totals.totalTransactionRevenue', ylabel='Density'>"
      ]
     },
     "execution_count": 16,
     "metadata": {},
     "output_type": "execute_result"
    },
    {
     "data": {
      "image/png": "[encoded data removed]",
      "text/plain": [
       "<Figure size 432x288 with 1 Axes>"
      ]
     },
     "metadata": {},
     "output_type": "display_data"
    }
   ],
   "source": [
    "sns.kdeplot(np.log(revenue_array))"
   ]
  },
  {
   "cell_type": "markdown",
   "id": "accepted-approach",
   "metadata": {},
   "source": [
    "----------\n",
    "### Step 4: Exploring the Predictor Variables"
   ]
  },
  {
   "cell_type": "code",
   "execution_count": 17,
   "id": "controversial-defense",
   "metadata": {},
   "outputs": [
    {
     "data": {
      "text/plain": [
       "trafficSource.adwordsClickInfo.adNetworkType        2\n",
       "device.isMobile                                     2\n",
       "trafficSource.adwordsClickInfo.slot                 3\n",
       "device.deviceCategory                               3\n",
       "totals.transactions                                 5\n",
       "trafficSource.adwordsClickInfo.page                 6\n",
       "geoNetwork.continent                                6\n",
       "trafficSource.medium                                7\n",
       "channelGrouping                                     8\n",
       "device.operatingSystem                             18\n",
       "geoNetwork.subContinent                            23\n",
       "trafficSource.campaign                             27\n",
       "device.browser                                     35\n",
       "date                                               38\n",
       "trafficSource.adContent                            54\n",
       "geoNetwork.metro                                   54\n",
       "totals.sessionQualityDim                           96\n",
       "totals.pageviews                                  115\n",
       "trafficSource.source                              140\n",
       "totals.hits                                       151\n",
       "geoNetwork.country                                188\n",
       "visitNumber                                       210\n",
       "geoNetwork.region                                 230\n",
       "geoNetwork.city                                   318\n",
       "trafficSource.keyword                             348\n",
       "totals.transactionRevenue                         687\n",
       "totals.totalTransactionRevenue                    808\n",
       "trafficSource.referralPath                       1024\n",
       "totals.timeOnSite                                2410\n",
       "trafficSource.adwordsClickInfo.gclId             3992\n",
       "geoNetwork.networkDomain                         7337\n",
       "fullVisitorId                                   90097\n",
       "visitStartTime                                  98062\n",
       "visitId                                         98072\n",
       "dtype: int64"
      ]
     },
     "execution_count": 17,
     "metadata": {},
     "output_type": "execute_result"
    }
   ],
   "source": [
    "train_df.nunique().sort_values()"
   ]
  },
  {
   "cell_type": "markdown",
   "id": "moving-scotland",
   "metadata": {},
   "source": [
    "From the table of unique value counts above, we can deduce which columns can be treted as **categorical**. \n",
    "\n"
   ]
  },
  {
   "cell_type": "code",
   "execution_count": 18,
   "id": "overall-balloon",
   "metadata": {},
   "outputs": [
    {
     "data": {
      "text/plain": [
       "Content          2357\n",
       "Google Search    2034\n",
       "Name: trafficSource.adwordsClickInfo.adNetworkType, dtype: int64"
      ]
     },
     "execution_count": 18,
     "metadata": {},
     "output_type": "execute_result"
    }
   ],
   "source": [
    "train_df['trafficSource.adwordsClickInfo.adNetworkType'].value_counts()"
   ]
  },
  {
   "cell_type": "code",
   "execution_count": 19,
   "id": "capable-nutrition",
   "metadata": {},
   "outputs": [
    {
     "data": {
      "text/plain": [
       "RHS                       2371\n",
       "Top                       1996\n",
       "Google Display Network      24\n",
       "Name: trafficSource.adwordsClickInfo.slot, dtype: int64"
      ]
     },
     "execution_count": 19,
     "metadata": {},
     "output_type": "execute_result"
    }
   ],
   "source": [
    "train_df['trafficSource.adwordsClickInfo.slot'].value_counts()"
   ]
  },
  {
   "cell_type": "code",
   "execution_count": 20,
   "id": "olympic-sector",
   "metadata": {},
   "outputs": [
    {
     "data": {
      "text/plain": [
       "False    68926\n",
       "True     31074\n",
       "Name: device.isMobile, dtype: int64"
      ]
     },
     "execution_count": 20,
     "metadata": {},
     "output_type": "execute_result"
    }
   ],
   "source": [
    "train_df['device.isMobile'].value_counts()"
   ]
  },
  {
   "cell_type": "markdown",
   "id": "small-salem",
   "metadata": {},
   "source": [
    "... and so on.\n",
    "\n",
    "Below I have made a few histograms for specific variables of interest:\n",
    "\n",
    "-----"
   ]
  },
  {
   "cell_type": "markdown",
   "id": "printable-waterproof",
   "metadata": {},
   "source": [
    "`ChannelGrouping`\n",
    "\n",
    "_The Default Channel Group associated with an end user's session for this View._"
   ]
  },
  {
   "cell_type": "code",
   "execution_count": 21,
   "id": "surrounded-celtic",
   "metadata": {},
   "outputs": [
    {
     "data": {
      "text/plain": [
       "<AxesSubplot:xlabel='channelGrouping', ylabel='Count'>"
      ]
     },
     "execution_count": 21,
     "metadata": {},
     "output_type": "execute_result"
    },
    {
     "data": {
      "image/png": "[encoded data removed]",
      "text/plain": [
       "<Figure size 1152x432 with 1 Axes>"
      ]
     },
     "metadata": {},
     "output_type": "display_data"
    }
   ],
   "source": [
    "plt.figure(figsize=(16, 6))\n",
    "sns.histplot(train_df['channelGrouping'])"
   ]
  },
  {
   "cell_type": "code",
   "execution_count": 22,
   "id": "suited-quality",
   "metadata": {},
   "outputs": [
    {
     "data": {
      "text/plain": [
       "<AxesSubplot:xlabel='channelGrouping', ylabel='totals.totalTransactionRevenue'>"
      ]
     },
     "execution_count": 22,
     "metadata": {},
     "output_type": "execute_result"
    },
    {
     "data": {
      "image/png": "[encoded data removed]",
      "text/plain": [
       "<Figure size 432x288 with 1 Axes>"
      ]
     },
     "metadata": {},
     "output_type": "display_data"
    }
   ],
   "source": [
    "sns.scatterplot(x=train_df['channelGrouping'],y=train_df['totals.totalTransactionRevenue'])"
   ]
  },
  {
   "cell_type": "markdown",
   "id": "together-fountain",
   "metadata": {},
   "source": [
    "`geoNetwork.continent` \n",
    "\n",
    "_The continent from which sessions originated, based on IP address._"
   ]
  },
  {
   "cell_type": "code",
   "execution_count": 23,
   "id": "sustained-validation",
   "metadata": {},
   "outputs": [
    {
     "data": {
      "text/plain": [
       "<AxesSubplot:xlabel='geoNetwork.continent', ylabel='Count'>"
      ]
     },
     "execution_count": 23,
     "metadata": {},
     "output_type": "execute_result"
    },
    {
     "data": {
      "image/png": "[encoded data removed]",
      "text/plain": [
       "<Figure size 1152x432 with 1 Axes>"
      ]
     },
     "metadata": {},
     "output_type": "display_data"
    }
   ],
   "source": [
    "plt.figure(figsize=(16, 6))\n",
    "sns.histplot(train_df['geoNetwork.continent'])"
   ]
  },
  {
   "cell_type": "code",
   "execution_count": 24,
   "id": "incoming-handling",
   "metadata": {},
   "outputs": [
    {
     "data": {
      "text/plain": [
       "<AxesSubplot:xlabel='geoNetwork.continent', ylabel='totals.totalTransactionRevenue'>"
      ]
     },
     "execution_count": 24,
     "metadata": {},
     "output_type": "execute_result"
    },
    {
     "data": {
      "image/png": "[encoded data removed]",
      "text/plain": [
       "<Figure size 432x288 with 1 Axes>"
      ]
     },
     "metadata": {},
     "output_type": "display_data"
    }
   ],
   "source": [
    "sns.scatterplot(x=train_df['geoNetwork.continent'],y=train_df['totals.totalTransactionRevenue'])"
   ]
  },
  {
   "cell_type": "markdown",
   "id": "documented-gauge",
   "metadata": {},
   "source": [
    "\n",
    "\n",
    "`trafficSource.medium'` \n",
    "\n",
    "_The medium of the traffic source. Could be \"organic\", \"cpc\", \"referral\", or the value of the utmmedium URL parameter_"
   ]
  },
  {
   "cell_type": "code",
   "execution_count": 25,
   "id": "exempt-colleague",
   "metadata": {},
   "outputs": [
    {
     "data": {
      "text/plain": [
       "<AxesSubplot:xlabel='trafficSource.medium', ylabel='Count'>"
      ]
     },
     "execution_count": 25,
     "metadata": {},
     "output_type": "execute_result"
    },
    {
     "data": {
      "image/png": "[encoded data removed]",
      "text/plain": [
       "<Figure size 1152x432 with 1 Axes>"
      ]
     },
     "metadata": {},
     "output_type": "display_data"
    }
   ],
   "source": [
    "plt.figure(figsize=(16, 6))\n",
    "sns.histplot(train_df['trafficSource.medium'])"
   ]
  },
  {
   "cell_type": "code",
   "execution_count": 26,
   "id": "obvious-webmaster",
   "metadata": {},
   "outputs": [
    {
     "data": {
      "text/plain": [
       "<AxesSubplot:xlabel='trafficSource.medium', ylabel='totals.totalTransactionRevenue'>"
      ]
     },
     "execution_count": 26,
     "metadata": {},
     "output_type": "execute_result"
    },
    {
     "data": {
      "image/png": "[encoded data removed]",
      "text/plain": [
       "<Figure size 432x288 with 1 Axes>"
      ]
     },
     "metadata": {},
     "output_type": "display_data"
    }
   ],
   "source": [
    "sns.scatterplot(x=train_df['trafficSource.medium'],y=train_df['totals.totalTransactionRevenue'])"
   ]
  },
  {
   "cell_type": "code",
   "execution_count": 27,
   "id": "boolean-agreement",
   "metadata": {},
   "outputs": [],
   "source": [
    "categorical_list = ['trafficSource.adwordsClickInfo.adNetworkType','device.isMobile', \\\n",
    "'trafficSource.adwordsClickInfo.slot','device.deviceCategory','trafficSource.adwordsClickInfo.page', \\\n",
    "'geoNetwork.continent','trafficSource.medium','channelGrouping']"
   ]
  },
  {
   "cell_type": "markdown",
   "id": "weekly-parker",
   "metadata": {},
   "source": [
    "Once again, I will look at fill rate:"
   ]
  },
  {
   "cell_type": "code",
   "execution_count": 28,
   "id": "certified-sarah",
   "metadata": {},
   "outputs": [
    {
     "data": {
      "text/plain": [
       "channelGrouping                                     0\n",
       "trafficSource.medium                                0\n",
       "trafficSource.source                                0\n",
       "trafficSource.campaign                              0\n",
       "totals.hits                                         0\n",
       "geoNetwork.city                                     0\n",
       "geoNetwork.metro                                    0\n",
       "geoNetwork.region                                   0\n",
       "geoNetwork.country                                  0\n",
       "geoNetwork.subContinent                             0\n",
       "geoNetwork.networkDomain                            0\n",
       "device.deviceCategory                               0\n",
       "device.isMobile                                     0\n",
       "device.operatingSystem                              0\n",
       "device.browser                                      0\n",
       "visitStartTime                                      0\n",
       "date                                                0\n",
       "visitNumber                                         0\n",
       "fullVisitorId                                       0\n",
       "visitId                                             0\n",
       "geoNetwork.continent                                0\n",
       "totals.pageviews                                   11\n",
       "totals.timeOnSite                               49974\n",
       "totals.sessionQualityDim                        53872\n",
       "trafficSource.referralPath                      65843\n",
       "trafficSource.keyword                           69218\n",
       "trafficSource.adwordsClickInfo.gclId            95571\n",
       "trafficSource.adwordsClickInfo.slot             95609\n",
       "trafficSource.adwordsClickInfo.page             95609\n",
       "trafficSource.adwordsClickInfo.adNetworkType    95609\n",
       "trafficSource.adContent                         96237\n",
       "totals.transactions                             98998\n",
       "totals.totalTransactionRevenue                  99003\n",
       "totals.transactionRevenue                       99003\n",
       "dtype: int64"
      ]
     },
     "execution_count": 28,
     "metadata": {},
     "output_type": "execute_result"
    }
   ],
   "source": [
    "all_filled = train_df.isnull().sum().sort_values(ascending = True)\n",
    "all_filled"
   ]
  },
  {
   "cell_type": "markdown",
   "id": "built-tulsa",
   "metadata": {},
   "source": [
    "---------------\n",
    "### Step 5. Exploring Potential Time Dependence\n",
    "\n",
    "There are also many ways of analyzing the time variable, but for now I am just reducing the date variable to a 'day-of-week' with 7 categorical levels:"
   ]
  },
  {
   "cell_type": "code",
   "execution_count": 29,
   "id": "incorrect-courage",
   "metadata": {},
   "outputs": [
    {
     "data": {
      "text/plain": [
       "0    20171016\n",
       "1    20171016\n",
       "2    20171016\n",
       "3    20171016\n",
       "4    20171016\n",
       "Name: date, dtype: int64"
      ]
     },
     "execution_count": 29,
     "metadata": {},
     "output_type": "execute_result"
    }
   ],
   "source": [
    "train_df['date'].head()"
   ]
  },
  {
   "cell_type": "code",
   "execution_count": 30,
   "id": "natural-biodiversity",
   "metadata": {},
   "outputs": [],
   "source": [
    "train_df['date'] = pd.to_datetime(train_df['date'])"
   ]
  },
  {
   "cell_type": "code",
   "execution_count": 31,
   "id": "simplified-dutch",
   "metadata": {},
   "outputs": [],
   "source": [
    "train_df['date_day'] = train_df['date'].dt.day_name()"
   ]
  },
  {
   "cell_type": "code",
   "execution_count": 32,
   "id": "hybrid-principal",
   "metadata": {},
   "outputs": [
    {
     "data": {
      "text/plain": [
       "0    Thursday\n",
       "1    Thursday\n",
       "2    Thursday\n",
       "3    Thursday\n",
       "4    Thursday\n",
       "Name: date_day, dtype: object"
      ]
     },
     "execution_count": 32,
     "metadata": {},
     "output_type": "execute_result"
    }
   ],
   "source": [
    "train_df['date_day'].head()"
   ]
  },
  {
   "cell_type": "code",
   "execution_count": 33,
   "id": "medical-alias",
   "metadata": {},
   "outputs": [
    {
     "data": {
      "text/plain": [
       "Thursday    100000\n",
       "Name: date_day, dtype: int64"
      ]
     },
     "execution_count": 33,
     "metadata": {},
     "output_type": "execute_result"
    }
   ],
   "source": [
    "train_df['date_day'].value_counts()"
   ]
  },
  {
   "cell_type": "markdown",
   "id": "widespread-giving",
   "metadata": {},
   "source": [
    "it seems like the 'date' column may be unreliable, or I just haven't imported enough data.\n",
    "\n",
    "There is a discussion about this on the Kaggle form which I may refer to in later analysis: \n",
    "\n",
    "https://www.kaggle.com/c/ga-customer-revenue-prediction/discussion/66815"
   ]
  },
  {
   "cell_type": "markdown",
   "id": "fantastic-darwin",
   "metadata": {},
   "source": [
    "---------"
   ]
  },
  {
   "cell_type": "markdown",
   "id": "unable-obligation",
   "metadata": {},
   "source": [
    "### Questions to be Answered: \n",
    "\n",
    "1. Are there any observations that need to be explored further?\n",
    "\n",
    "2. Are there any trends that jump out?\n",
    "\n",
    "3. What are some potential modeling approaches you want to consider?\n",
    "\n",
    "4. Write-up a summary of your findings in a Markdown cell at the end, referencing 2+ figures and/or tables and discuss potential modeling approaches\n"
   ]
  },
  {
   "cell_type": "markdown",
   "id": "romance-blake",
   "metadata": {},
   "source": [
    "### My Responses:\n",
    "\n",
    "1. \n",
    "\n",
    "- Right now I am only looking at a subset of training data, I must use Dask or some other efficient processing method to get the full scope and re-run my EDA.\n",
    "\n",
    "- There is an entire 'table' worth of data that I could not process due to already having too many columns. (the table is called `hits`, with metadata focused around content type, adsense variables, etc.). This table has 100+ variables, so I will not try to include it in an interpretable model.\n",
    "\n",
    "\n",
    "2.\n",
    "\n",
    "- The main trend is that most visitors do not convert into revenue-generation, and less than 1% do. Therefore, the model to-be-developed tackles a challenging problem of inbalanced data. Many real-world problems are focused on this kind of issue!\n",
    "\n",
    "3.\n",
    "\n",
    "- The most straightforward approach would be a kind of regression model for our numerical predictor. However with the inbalance of our data, combined with high # of signals / predictor columns, a neural network may perform much better.\n",
    "\n",
    "- We have a datetime field, we can assess for trends over time, or we can aggregate and create new variables for certain blocks of time (weekly,monthly,daily aggregates). Time series autoregressive model might work, but may not be ideal with low fill rate of target variable.\n",
    "\n",
    "4. Summary\n",
    "\n",
    "- There are many predictor variables available, but most of them are uninformative. A major part of this EDA was to determine which fields are likely to give us value during the modelling process.\n",
    "\n",
    "- The analysis of the response variable showed that the data is mostly filled with non-revenue generating customers. Therefore, it becomes even more important that we can identify the best signals during this pre-modelling step. While our response variable is definitely skewed, a log transformation (shown at the end of Step 3: Exploring the Target Variable) will help us make more reasonable predictions (instead of just predicting 0 revenue all the time)\n",
    "\n",
    "- Much of our predictive power will likely come from demographic and device data (see scatterplots in Step 3: Exploring the Predictor Variables). Their fill rates are great, and there seems to be some trends against our Revenue variable. "
   ]
  }
 ],
 "metadata": {
  "kernelspec": {
   "display_name": "Python 3",
   "language": "python",
   "name": "python3"
  },
  "language_info": {
   "codemirror_mode": {
    "name": "ipython",
    "version": 3
   },
   "file_extension": ".py",
   "mimetype": "text/x-python",
   "name": "python",
   "nbconvert_exporter": "python",
   "pygments_lexer": "ipython3",
   "version": "3.8.5"
  }
 },
 "nbformat": 4,
 "nbformat_minor": 5
}
