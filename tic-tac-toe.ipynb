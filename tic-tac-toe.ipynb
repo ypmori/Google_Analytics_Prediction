{
 "cells": [
  {
   "cell_type": "markdown",
   "metadata": {},
   "source": [
    "# Tic-Tac-Toe (Extra Credit Assignment)\n",
    "\n",
    "##### Author: Yuji Mori\n",
    "##### Submission Date: 01/20/2021\n",
    "##### STATS404 Winter 2021"
   ]
  },
  {
   "cell_type": "code",
   "execution_count": 1,
   "metadata": {},
   "outputs": [],
   "source": [
    "import random\n",
    "random.seed(1234)"
   ]
  },
  {
   "cell_type": "code",
   "execution_count": 24,
   "metadata": {},
   "outputs": [],
   "source": [
    "def write_to_board(board_state,key,mark):\n",
    "    '''insert value (X or O) into board at the given key position'''\n",
    "    board_state[key] = mark"
   ]
  },
  {
   "cell_type": "code",
   "execution_count": 37,
   "metadata": {},
   "outputs": [],
   "source": [
    "def check_for_winner(board_state,turn):\n",
    "    ''' Determine if the game has a winner at the current board state.\n",
    "        The logic is organized by focusing on three key 'pivot' points on the board \n",
    "        (there is probably a much simpler way that doesn't rely on hard-coding logic)\n",
    "    Args:\n",
    "        board_state (dict): dictionary with key/values representing state of tic-tac-toe board\n",
    "        turn (int): index for turn count\n",
    "    Returns:\n",
    "        winner (str): If winner is found, returns string 'X' or 'O'. \n",
    "                     'Tie' if tie on turn 9. \n",
    "                     'None' if game is still in progress.\n",
    "    '''\n",
    "    # check victories that require top-L \n",
    "    if (board['top-L'] != ' ' \n",
    "        and (\n",
    "            # horizonal win\n",
    "            (board['top-L'] == board['top-M'] == board['top-R']) or\n",
    "            # vertical win\n",
    "            (board['top-L'] == board['mid-L'] == board['low-L'])\n",
    "        )\n",
    "    ): \n",
    "        winner = board['top-L']\n",
    "    # check victories that require mid-M\n",
    "    elif (board['mid-M'] != ' ' \n",
    "        and (\n",
    "            # diagonal win\n",
    "            (board['top-L'] == board['mid-M'] == board['low-R']) or\n",
    "            (board['low-L'] == board['mid-M'] == board['top-R']) or\n",
    "            # horizonal win\n",
    "            (board['mid-L'] == board['mid-M'] == board['mid-R']) or\n",
    "            # vertical win\n",
    "            (board['top-M'] == board['mid-M'] == board['low-M']) \n",
    "        )\n",
    "    ): \n",
    "        winner = board['mid-M']\n",
    "    # check victories that require low-R\n",
    "    elif (board['low-R'] != ' ' \n",
    "        and (\n",
    "            # horizonal win\n",
    "            (board['low-L'] == board['low-M'] == board['low-R']) or\n",
    "            # vertical win\n",
    "            (board['top-R'] == board['mid-R'] == board['low-R'])\n",
    "        )\n",
    "    ): \n",
    "        winner = board['low-R']\n",
    "        \n",
    "    # declare tie if board is full\n",
    "    elif (turn == 9):\n",
    "        winner = 'Tie'\n",
    "        \n",
    "    # otherwise, continue game\n",
    "    else:\n",
    "        winner = 'None'\n",
    "        \n",
    "    return(winner)\n"
   ]
  },
  {
   "cell_type": "code",
   "execution_count": 47,
   "metadata": {},
   "outputs": [],
   "source": [
    "# create list to keep track of victories over 50,000 iterations\n",
    "winners_list = []\n",
    "\n",
    "for i in range(50000):\n",
    "    \n",
    "    # initialize empty board\n",
    "    board = {'top-L': ' ', 'top-M': ' ', 'top-R': ' ',\n",
    "             'mid-L': ' ', 'mid-M': ' ', 'mid-R': ' ',\n",
    "             'low-L': ' ', 'low-M': ' ', 'low-R': ' '}\n",
    "\n",
    "    # creating a list of available board positions, remove elements as turns are taken\n",
    "    empty_spots = list(board.keys())\n",
    "\n",
    "    # initialize game state\n",
    "    game_over = False\n",
    "\n",
    "    # initialize starting player\n",
    "    x_or_o = ['X','O']\n",
    "    current_player = 0\n",
    "    turn = 1\n",
    "\n",
    "    # begin game\n",
    "    while (game_over == False):\n",
    "        # pick a random empty position and make move\n",
    "        index = random.randint(0,len(empty_spots)-1)\n",
    "        write_to_board(board,empty_spots[index], x_or_o[current_player])\n",
    "        # check for victory\n",
    "        game_winner = check_for_winner(board,turn)\n",
    "        if (game_winner != 'None'): \n",
    "            game_over = True \n",
    "            # record winner in list\n",
    "            winners_list.append(game_winner)\n",
    "        else:\n",
    "            # update list of available spots\n",
    "            empty_spots.pop(index)\n",
    "            # switch players\n",
    "            current_player = abs(current_player - 1)\n",
    "            # increment turn counter\n",
    "            turn = turn + 1 \n"
   ]
  },
  {
   "cell_type": "code",
   "execution_count": 48,
   "metadata": {},
   "outputs": [
    {
     "name": "stdout",
     "output_type": "stream",
     "text": [
      "29206\n",
      "0.58412\n"
     ]
    }
   ],
   "source": [
    "print(winners_list.count('X'))\n",
    "print(winners_list.count('X')/len(winners_list))"
   ]
  },
  {
   "cell_type": "code",
   "execution_count": 49,
   "metadata": {},
   "outputs": [
    {
     "name": "stdout",
     "output_type": "stream",
     "text": [
      "14489\n",
      "0.28978\n"
     ]
    }
   ],
   "source": [
    "print(winners_list.count('O'))\n",
    "print(winners_list.count('O')/len(winners_list))"
   ]
  },
  {
   "cell_type": "code",
   "execution_count": 50,
   "metadata": {},
   "outputs": [
    {
     "name": "stdout",
     "output_type": "stream",
     "text": [
      "6305\n",
      "0.1261\n"
     ]
    }
   ],
   "source": [
    "print(winners_list.count('Tie'))\n",
    "print(winners_list.count('Tie')/len(winners_list))"
   ]
  },
  {
   "cell_type": "markdown",
   "metadata": {},
   "source": [
    "### Discussion\n",
    "\n",
    "After 50,000 iterations of the tic-tac-toe game, ~58% of the games were 'X' win, ~29% were 'O' win, and ~13% were ties.\n",
    "\n",
    "I found that player 'X' has a much higher win rate than player 'O'. The only difference is the turn order ('X' always goes first), therefore we can postulate that the 1st move gives a player a significant advantage **when moves are randomized.** \n",
    "\n",
    "In a real game with human players, the these win rates may be very different. While a first-turn advantange may still exist, each player will actively pursue and deny 3-in-a-row victories (unlike this program, where the moves are made without any regard for the win condition). I would expect the majority of outcomes to be ties in a real-world scenario, and win rates between 'X' and 'O' should be much closer."
   ]
  }
 ],
 "metadata": {
  "kernelspec": {
   "display_name": "Python 3",
   "language": "python",
   "name": "python3"
  },
  "language_info": {
   "codemirror_mode": {
    "name": "ipython",
    "version": 3
   },
   "file_extension": ".py",
   "mimetype": "text/x-python",
   "name": "python",
   "nbconvert_exporter": "python",
   "pygments_lexer": "ipython3",
   "version": "3.8.5"
  }
 },
 "nbformat": 4,
 "nbformat_minor": 4
}
